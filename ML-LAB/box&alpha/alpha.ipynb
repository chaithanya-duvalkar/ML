{
 "cells": [
  {
   "cell_type": "code",
   "execution_count": null,
   "id": "0a3f46e7",
   "metadata": {},
   "outputs": [],
   "source": [
    "# Write a program to implement Alpha-beta pruning algorithm. "
   ]
  }
 ],
 "metadata": {
  "language_info": {
   "name": "python"
  }
 },
 "nbformat": 4,
 "nbformat_minor": 5
}
