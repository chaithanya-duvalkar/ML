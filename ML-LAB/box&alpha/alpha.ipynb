{
 "cells": [
  {
   "cell_type": "code",
   "execution_count": null,
   "id": "0a3f46e7",
   "metadata": {},
   "outputs": [
    {
     "ename": "NameError",
     "evalue": "name 'node' is not defined",
     "output_type": "error",
     "traceback": [
      "\u001b[1;31m---------------------------------------------------------------------------\u001b[0m",
      "\u001b[1;31mNameError\u001b[0m                                 Traceback (most recent call last)",
      "Cell \u001b[1;32mIn[1], line 28\u001b[0m\n\u001b[0;32m     26\u001b[0m         \u001b[38;5;28;01mreturn\u001b[39;00m best,best_path \n\u001b[0;32m     27\u001b[0m values\u001b[38;5;241m=\u001b[39m[\u001b[38;5;241m3\u001b[39m,\u001b[38;5;241m5\u001b[39m,\u001b[38;5;241m2\u001b[39m,\u001b[38;5;241m9\u001b[39m,\u001b[38;5;241m12\u001b[39m,\u001b[38;5;241m5\u001b[39m,\u001b[38;5;241m23\u001b[39m,\u001b[38;5;241m23\u001b[39m]\n\u001b[1;32m---> 28\u001b[0m result,path\u001b[38;5;241m=\u001b[39malpha_beta(\u001b[38;5;241m0\u001b[39m,\u001b[38;5;241m0\u001b[39m,\u001b[38;5;28;01mTrue\u001b[39;00m,values,\u001b[38;5;28mfloat\u001b[39m(\u001b[38;5;124m\"\u001b[39m\u001b[38;5;124m-inf\u001b[39m\u001b[38;5;124m\"\u001b[39m),\u001b[38;5;28mfloat\u001b[39m(\u001b[38;5;124m\"\u001b[39m\u001b[38;5;124minf\u001b[39m\u001b[38;5;124m\"\u001b[39m),[])       \n\u001b[0;32m     29\u001b[0m \u001b[38;5;28mprint\u001b[39m(\u001b[38;5;124m\"\u001b[39m\u001b[38;5;124mThe optimal value is: \u001b[39m\u001b[38;5;124m\"\u001b[39m,result)\n\u001b[0;32m     30\u001b[0m \u001b[38;5;28mprint\u001b[39m(\u001b[38;5;124m\"\u001b[39m\u001b[38;5;124mthe path taken(leaf node index value): \u001b[39m\u001b[38;5;124m\"\u001b[39m,path)\n",
      "Cell \u001b[1;32mIn[1], line 3\u001b[0m, in \u001b[0;36malpha_beta\u001b[1;34m(depth, nodeIndex, maximizingPlayer, values, alpha, beta, path)\u001b[0m\n\u001b[0;32m      2\u001b[0m \u001b[38;5;28;01mdef\u001b[39;00m \u001b[38;5;21malpha_beta\u001b[39m(depth,nodeIndex,maximizingPlayer,values,alpha,beta,path):\n\u001b[1;32m----> 3\u001b[0m     \u001b[38;5;28;01mif\u001b[39;00m node\u001b[38;5;241m==\u001b[39m\u001b[38;5;241m3\u001b[39m:\n\u001b[0;32m      4\u001b[0m         \u001b[38;5;28;01mreturn\u001b[39;00m values[nodeIndex],path\u001b[38;5;241m+\u001b[39m[nodeIndex]\n\u001b[0;32m      5\u001b[0m     \u001b[38;5;28;01mif\u001b[39;00m maximizingPlayer:\n",
      "\u001b[1;31mNameError\u001b[0m: name 'node' is not defined"
     ]
    }
   ],
   "source": [
    "# Write a program to implement Alpha-beta pruning algorithm. \n",
    "def alpha_beta(depth,nodeIndex,maximizingPlayer,values,alpha,beta,path):\n",
    "    if depth==3:\n",
    "        return values[nodeIndex],path+[nodeIndex]\n",
    "    if maximizingPlayer:\n",
    "        best=float(\"-inf\")\n",
    "        best_path=[]\n",
    "        for i in range(2):\n",
    "            val,temp_path=alpha_beta(depth+1,nodeIndex*2+i,False,values,alpha,beta,path)\n",
    "            best=max(val,best)\n",
    "            best_path=temp_path\n",
    "            alpha=max(alpha,best)\n",
    "            if beta<=alpha:\n",
    "                break \n",
    "        return best,best_path \n",
    "    else:\n",
    "        best=float(\"inf\")\n",
    "        best_path=[]\n",
    "        for i in range(2):\n",
    "            val,temp_path=alpha_beta(depth+1,nodeIndex*2+i,True,values,alpha,beta,path)    \n",
    "            best=min(best,val)\n",
    "            best_path=temp_path\n",
    "            beta=min(beta,best)\n",
    "            if beta<=alpha:\n",
    "                break\n",
    "        return best,best_path \n",
    "values=[3,5,2,9,12,5,23,23]\n",
    "result,path=alpha_beta(0,0,True,values,float(\"-inf\"),float(\"inf\"),[])       \n",
    "print(\"The optimal value is: \",result)\n",
    "print(\"the path taken(leaf node index value): \",path)"
   ]
  }
 ],
 "metadata": {
  "kernelspec": {
   "display_name": "base",
   "language": "python",
   "name": "python3"
  },
  "language_info": {
   "codemirror_mode": {
    "name": "ipython",
    "version": 3
   },
   "file_extension": ".py",
   "mimetype": "text/x-python",
   "name": "python",
   "nbconvert_exporter": "python",
   "pygments_lexer": "ipython3",
   "version": "3.12.7"
  }
 },
 "nbformat": 4,
 "nbformat_minor": 5
}
