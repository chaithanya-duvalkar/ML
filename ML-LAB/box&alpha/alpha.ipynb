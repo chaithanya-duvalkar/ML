{
 "cells": [
  {
   "cell_type": "code",
   "execution_count": 2,
   "id": "0a3f46e7",
   "metadata": {},
   "outputs": [
    {
     "name": "stdout",
     "output_type": "stream",
     "text": [
      "The optimal value is:  12\n",
      "the path taken(leaf node index value):  [6]\n"
     ]
    }
   ],
   "source": [
    "# Write a program to implement Alpha-beta pruning algorithm. \n",
    "def alpha_beta(depth,nodeIndex,maximizingPlayer,values,alpha,beta,path):\n",
    "    if depth==3:\n",
    "        return values[nodeIndex],path+[nodeIndex]\n",
    "    if maximizingPlayer:\n",
    "        best=float(\"-inf\")\n",
    "        best_path=[]\n",
    "        for i in range(2):\n",
    "            val,temp_path=alpha_beta(depth+1,nodeIndex*2+i,False,values,alpha,beta,path)\n",
    "            best=max(val,best)\n",
    "            best_path=temp_path\n",
    "            alpha=max(alpha,best)\n",
    "            if beta<=alpha:\n",
    "                break \n",
    "        return best,best_path \n",
    "    else:\n",
    "        best=float(\"inf\")\n",
    "        best_path=[]\n",
    "        for i in range(2):\n",
    "            val,temp_path=alpha_beta(depth+1,nodeIndex*2+i,True,values,alpha,beta,path)    \n",
    "            best=min(best,val)\n",
    "            best_path=temp_path\n",
    "            beta=min(beta,best)\n",
    "            if beta<=alpha:\n",
    "                break\n",
    "        return best,best_path \n",
    "values=[3,5,2,9,12,5,23,23]\n",
    "result,path=alpha_beta(0,0,True,values,float(\"-inf\"),float(\"inf\"),[])       \n",
    "print(\"The optimal value is: \",result)\n",
    "print(\"the path taken(leaf node index value): \",path)"
   ]
  }
 ],
 "metadata": {
  "kernelspec": {
   "display_name": "base",
   "language": "python",
   "name": "python3"
  },
  "language_info": {
   "codemirror_mode": {
    "name": "ipython",
    "version": 3
   },
   "file_extension": ".py",
   "mimetype": "text/x-python",
   "name": "python",
   "nbconvert_exporter": "python",
   "pygments_lexer": "ipython3",
   "version": "3.12.7"
  }
 },
 "nbformat": 4,
 "nbformat_minor": 5
}
