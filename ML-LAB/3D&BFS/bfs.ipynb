{
 "cells": [
  {
   "cell_type": "code",
   "execution_count": null,
   "id": "5613199c",
   "metadata": {},
   "outputs": [],
   "source": [
    "# Write a program to implement the Best First Search (BFS) algorithm. "
   ]
  }
 ],
 "metadata": {
  "language_info": {
   "name": "python"
  }
 },
 "nbformat": 4,
 "nbformat_minor": 5
}
