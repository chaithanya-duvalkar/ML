{
 "cells": [
  {
   "cell_type": "code",
   "execution_count": null,
   "id": "60d726d0",
   "metadata": {},
   "outputs": [],
   "source": [
    "#Write a program to implement Min-Max algorithm. "
   ]
  }
 ],
 "metadata": {
  "language_info": {
   "name": "python"
  }
 },
 "nbformat": 4,
 "nbformat_minor": 5
}
