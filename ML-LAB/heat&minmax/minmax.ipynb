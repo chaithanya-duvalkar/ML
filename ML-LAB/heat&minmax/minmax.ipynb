{
 "cells": [
  {
   "cell_type": "code",
   "execution_count": 2,
   "id": "60d726d0",
   "metadata": {},
   "outputs": [
    {
     "name": "stdout",
     "output_type": "stream",
     "text": [
      "The optimal value:  12\n",
      "the path taken(leaf node indices):  [0, 1, 3, 7]\n"
     ]
    }
   ],
   "source": [
    "#Write a program to implement Min-Max algorithm.\n",
    "def minmax(depth,nodeIndex,maximizingPlayer,values,path):\n",
    "    if depth==3:\n",
    "        return values[nodeIndex],path+[nodeIndex]\n",
    "    if maximizingPlayer:\n",
    "        best=float(\"-inf\")\n",
    "        best_path=[]\n",
    "        for i in range(2):\n",
    "            val,temp_path=minmax(depth+1,nodeIndex*2+i,False,values,path+[nodeIndex])\n",
    "            best=max(val,best)\n",
    "            best_path=temp_path \n",
    "        return best,best_path\n",
    "    else:\n",
    "        best=float(\"inf\")\n",
    "        best_path=[]\n",
    "        for i in range(2):\n",
    "            val,temp_path=minmax(depth+1,nodeIndex*2+i,True,values,path+[nodeIndex])\n",
    "            best=min(val,best)\n",
    "            best_path=temp_path\n",
    "        return best,best_path\n",
    "values=[3,5,2,9,12,5,23,23]\n",
    "result,path=minmax(0,0,True,values,[])\n",
    "print(\"The optimal value: \",result)     \n",
    "print(\"the path taken(leaf node indices): \",path)       "
   ]
  }
 ],
 "metadata": {
  "kernelspec": {
   "display_name": "base",
   "language": "python",
   "name": "python3"
  },
  "language_info": {
   "codemirror_mode": {
    "name": "ipython",
    "version": 3
   },
   "file_extension": ".py",
   "mimetype": "text/x-python",
   "name": "python",
   "nbconvert_exporter": "python",
   "pygments_lexer": "ipython3",
   "version": "3.12.7"
  }
 },
 "nbformat": 4,
 "nbformat_minor": 5
}
