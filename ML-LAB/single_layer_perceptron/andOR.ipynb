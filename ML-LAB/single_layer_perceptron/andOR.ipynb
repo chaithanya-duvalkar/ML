{
 "cells": [
  {
   "cell_type": "code",
   "execution_count": 1,
   "id": "cdddf1e7",
   "metadata": {},
   "outputs": [
    {
     "name": "stdout",
     "output_type": "stream",
     "text": [
      "AND Gate Prediction: \n",
      "[0, 0] -> 0\n",
      "[0, 1] -> 0\n",
      "[1, 0] -> 0\n",
      "[1, 1] -> 1\n",
      "OR Gate Prediction: \n",
      "[0, 0] -> 0\n",
      "[0, 1] -> 1\n",
      "[1, 0] -> 1\n",
      "[1, 1] -> 1\n"
     ]
    }
   ],
   "source": [
    "# #11)Write a Program to develop simple single layer perceptron to implement AND, OR Boolean functions.\n",
    "\n",
    "# from sklearn.linear_model import Perceptron\n",
    "\n",
    "# def perceptron_logic_gate(gate='AND'):\n",
    "#     if gate == 'AND':\n",
    "#         X = [[0,0],[0,1],[1,0],[1,1]]\n",
    "#         y = [0,0,0,1]\n",
    "#     elif gate == 'OR':\n",
    "#         X = [[0,0],[0,1],[1,0],[1,1]]\n",
    "#         y = [0,1,1,1]\n",
    "\n",
    "#     model = Perceptron()\n",
    "#     model.fit(X, y)\n",
    "\n",
    "#     print(f\"{gate} Gate Prediction:\")\n",
    "#     for x in X:\n",
    "#         print(f\"{x} -> {model.predict([x])[0]}\")\n",
    "\n",
    "# perceptron_logic_gate('AND')\n",
    "# perceptron_logic_gate('OR')\n",
    "\n",
    "from sklearn.linear_model import Perceptron\n",
    "\n",
    "def perceptron_logic_gate(gate='AND'):\n",
    "    if gate=='AND':\n",
    "        X=[[0,0],[0,1],[1,0],[1,1]]\n",
    "        y=[0,0,0,1]\n",
    "    elif gate=='OR':\n",
    "        X=[[0,0],[0,1],[1,0],[1,1]]\n",
    "        y=[0,1,1,1]\n",
    "        \n",
    "    model=Perceptron()\n",
    "    model.fit(X,y)\n",
    "\n",
    "    print(f\"{gate} Gate Prediction: \")\n",
    "    for x in X:\n",
    "        print(f\"{x} -> {model.predict([x])[0]}\")    \n",
    "\n",
    "perceptron_logic_gate('AND')\n",
    "perceptron_logic_gate('OR')        \n"
   ]
  },
  {
   "cell_type": "code",
   "execution_count": null,
   "id": "4b003762",
   "metadata": {},
   "outputs": [],
   "source": []
  }
 ],
 "metadata": {
  "kernelspec": {
   "display_name": "base",
   "language": "python",
   "name": "python3"
  },
  "language_info": {
   "codemirror_mode": {
    "name": "ipython",
    "version": 3
   },
   "file_extension": ".py",
   "mimetype": "text/x-python",
   "name": "python",
   "nbconvert_exporter": "python",
   "pygments_lexer": "ipython3",
   "version": "3.12.7"
  }
 },
 "nbformat": 4,
 "nbformat_minor": 5
}
