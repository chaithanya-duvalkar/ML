{
 "cells": [
  {
   "cell_type": "code",
   "execution_count": null,
   "id": "7f2e9a12",
   "metadata": {},
   "outputs": [],
   "source": [
    "# Linear Discriminant Analysis (LDA) algorithms. "
   ]
  }
 ],
 "metadata": {
  "language_info": {
   "name": "python"
  }
 },
 "nbformat": 4,
 "nbformat_minor": 5
}
