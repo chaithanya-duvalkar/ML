{
 "cells": [
  {
   "cell_type": "code",
   "execution_count": null,
   "id": "4bfdd0eb",
   "metadata": {},
   "outputs": [],
   "source": [
    "#10) Write a program to develop Principal Component Analysis (PCA)\n",
    "import pandas as pd\n",
    "import numpy as np\n"
   ]
  }
 ],
 "metadata": {
  "language_info": {
   "name": "python"
  }
 },
 "nbformat": 4,
 "nbformat_minor": 5
}
