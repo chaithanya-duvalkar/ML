{
 "cells": [
  {
   "cell_type": "code",
   "execution_count": 5,
   "id": "bbe3f577",
   "metadata": {},
   "outputs": [
    {
     "name": "stdout",
     "output_type": "stream",
     "text": [
      "Euclidean Accuracy:  0.6461538461538462\n",
      "Manhattan Accuracy:  0.6923076923076923\n"
     ]
    }
   ],
   "source": [
    "#7)Write a program to develop the KNN classifier with Euclidean distance and Manhattan distance for the k values as 3 based on split up of training and testing dataset as 70-30 on Glass dataset. \n",
    "import pandas as pd\n",
    "import numpy as np\n",
    "from sklearn.metrics import accuracy_score\n",
    "from sklearn.model_selection import train_test_split\n",
    "from sklearn.neighbors import KNeighborsClassifier\n",
    "df=pd.read_csv(\"glass.csv\")\n",
    "\n",
    "X=df.drop(\"Type\",axis=1).values\n",
    "y=df[\"Type\"].values\n",
    "X_train,X_test,y_train,y_test=train_test_split(X,y,test_size=0.3,random_state=0)\n",
    "\n",
    "classifier=KNeighborsClassifier(n_neighbors=3,metric=\"euclidean\")\n",
    "classifier.fit(X_train,y_train)\n",
    "y_pred=classifier.predict(X_test)\n",
    "accuracy=accuracy_score(y_test,y_pred)\n",
    "print(\"Euclidean Accuracy: \",accuracy)\n",
    "\n",
    "classifier=KNeighborsClassifier(n_neighbors=3,metric=\"manhattan\")\n",
    "classifier.fit(X_train,y_train)\n",
    "y_pred=classifier.predict(X_test)\n",
    "accuracy=accuracy_score(y_test,y_pred)\n",
    "print(\"Manhattan Accuracy: \",accuracy)\n",
    "\n"
   ]
  }
 ],
 "metadata": {
  "kernelspec": {
   "display_name": "base",
   "language": "python",
   "name": "python3"
  },
  "language_info": {
   "codemirror_mode": {
    "name": "ipython",
    "version": 3
   },
   "file_extension": ".py",
   "mimetype": "text/x-python",
   "name": "python",
   "nbconvert_exporter": "python",
   "pygments_lexer": "ipython3",
   "version": "3.12.7"
  }
 },
 "nbformat": 4,
 "nbformat_minor": 5
}
