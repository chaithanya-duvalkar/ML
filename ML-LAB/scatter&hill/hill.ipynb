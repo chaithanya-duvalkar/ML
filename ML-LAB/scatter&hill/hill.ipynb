{
 "cells": [
  {
   "cell_type": "code",
   "execution_count": null,
   "id": "673107ec",
   "metadata": {},
   "outputs": [],
   "source": [
    "# Write a program to implement Hill Climbing Algorithm.\n",
    "import pandas as pd\n",
    "import numpy as np"
   ]
  }
 ],
 "metadata": {
  "language_info": {
   "name": "python"
  }
 },
 "nbformat": 4,
 "nbformat_minor": 5
}
