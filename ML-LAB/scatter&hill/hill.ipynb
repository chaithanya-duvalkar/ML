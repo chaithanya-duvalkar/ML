{
 "cells": [
  {
   "cell_type": "code",
   "execution_count": 1,
   "id": "673107ec",
   "metadata": {},
   "outputs": [
    {
     "name": "stdout",
     "output_type": "stream",
     "text": [
      "Iteration 1: x = 0.1000, f(x) = 4.9900\n",
      "Iteration 2: x = 0.1000, f(x) = 4.9900\n",
      "Iteration 3: x = 0.1000, f(x) = 4.9900\n",
      "Iteration 4: x = 0.0618, f(x) = 4.9962\n",
      "Iteration 5: x = 0.0618, f(x) = 4.9962\n",
      "\n",
      "Final Solution:\n",
      "x = 0.0179, f(x) = 4.9997\n"
     ]
    }
   ],
   "source": [
    "# Write a program to implement Hill Climbing Algorithm.\n",
    "\n",
    "import random \n",
    " \n",
    "# Objective function (maximize this) \n",
    "def objective_function(x): \n",
    "    return -x**2 + 5 \n",
    " \n",
    "# Hill Climbing algorithm \n",
    "def hill_climbing(start_x, step_size, max_iterations): \n",
    "    current_x = start_x \n",
    "    current_score = objective_function(current_x) \n",
    " \n",
    "    for i in range(max_iterations): \n",
    "        # Try a new solution nearby \n",
    "        new_x = current_x + random.uniform(-step_size, step_size) \n",
    "        new_score = objective_function(new_x) \n",
    " \n",
    "        print(f\"Iteration {i+1}: x = {current_x:.4f}, f(x) = {current_score:.4f}\") \n",
    " \n",
    "        # If the new solution is better, move to it \n",
    "        if new_score > current_score: \n",
    "            current_x = new_x \n",
    "            current_score = new_score \n",
    "        else: \n",
    "            # No improvement; stop if you want a simple version \n",
    "            pass \n",
    " \n",
    "    print(\"\\nFinal Solution:\") \n",
    "    print(f\"x = {current_x:.4f}, f(x) = {current_score:.4f}\") \n",
    "    return current_x, current_score \n",
    " \n",
    "# Run the algorithm \n",
    "# best_x, best_score = hill_climbing(start_x=random.uniform(-5, 5), step_size=0.1, max_iterations=100) \n",
    "best_x, best_score = hill_climbing(start_x=0.1, step_size=0.05, max_iterations=5) "
   ]
  }
 ],
 "metadata": {
  "kernelspec": {
   "display_name": "base",
   "language": "python",
   "name": "python3"
  },
  "language_info": {
   "codemirror_mode": {
    "name": "ipython",
    "version": 3
   },
   "file_extension": ".py",
   "mimetype": "text/x-python",
   "name": "python",
   "nbconvert_exporter": "python",
   "pygments_lexer": "ipython3",
   "version": "3.12.7"
  }
 },
 "nbformat": 4,
 "nbformat_minor": 5
}
