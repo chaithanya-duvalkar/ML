{
 "cells": [
  {
   "cell_type": "markdown",
   "id": "53916862",
   "metadata": {},
   "source": [
    "A function is a block of code that performs a specific task. Functions help in organising code reusing code and improving readability."
   ]
  },
  {
   "cell_type": "code",
   "execution_count": 1,
   "id": "e833a081",
   "metadata": {},
   "outputs": [],
   "source": [
    "##syntax\n",
    "def function_name(parameters):\n",
    "    \"\"\"Docstring\"\"\"\n",
    "#Function body\n",
    "    return expression    "
   ]
  },
  {
   "cell_type": "code",
   "execution_count": 2,
   "id": "f4742190",
   "metadata": {},
   "outputs": [],
   "source": [
    "def even_or_odd(num):\n",
    "    \"\"\"This function finds even or odd\"\"\"\n",
    "    if num%2==0:\n",
    "        print(\"the number is even\")\n",
    "    else:\n",
    "        print(\"number is odd\")"
   ]
  },
  {
   "cell_type": "code",
   "execution_count": null,
   "id": "db4bbe6e",
   "metadata": {},
   "outputs": [
    {
     "name": "stdout",
     "output_type": "stream",
     "text": [
      "the number is even\n",
      "number is odd\n",
      "the number is even\n",
      "number is odd\n"
     ]
    }
   ],
   "source": [
    "##calling the function\n",
    "even_or_odd(30)\n",
    "even_or_odd(9)\n",
    "even_or_odd(10)\n",
    "even_or_odd(27)"
   ]
  },
  {
   "cell_type": "code",
   "execution_count": 7,
   "id": "32e2eb9b",
   "metadata": {},
   "outputs": [
    {
     "name": "stdout",
     "output_type": "stream",
     "text": [
      "7\n"
     ]
    }
   ],
   "source": [
    "def add(a,b):\n",
    "    return a+b\n",
    "result=add(3,4)\n",
    "print(result)"
   ]
  },
  {
   "cell_type": "code",
   "execution_count": null,
   "id": "b0170767",
   "metadata": {},
   "outputs": [],
   "source": [
    "def greet(name):\n",
    "    print(f\"hello {name}\")\n",
    "\n",
    "greet(\"Krish \")"
   ]
  }
 ],
 "metadata": {
  "kernelspec": {
   "display_name": "Python 3",
   "language": "python",
   "name": "python3"
  },
  "language_info": {
   "codemirror_mode": {
    "name": "ipython",
    "version": 3
   },
   "file_extension": ".py",
   "mimetype": "text/x-python",
   "name": "python",
   "nbconvert_exporter": "python",
   "pygments_lexer": "ipython3",
   "version": "3.12.0"
  }
 },
 "nbformat": 4,
 "nbformat_minor": 5
}
