{
 "cells": [
  {
   "cell_type": "markdown",
   "id": "53916862",
   "metadata": {},
   "source": [
    "A function is a block of code that performs a specific task. Functions help in organising code reusing code and improving readability."
   ]
  },
  {
   "cell_type": "code",
   "execution_count": 1,
   "id": "e833a081",
   "metadata": {},
   "outputs": [],
   "source": [
    "##syntax\n",
    "def function_name(parameters):\n",
    "    \"\"\"Docstring\"\"\"\n",
    "#Function body\n",
    "    return expression    "
   ]
  },
  {
   "cell_type": "code",
   "execution_count": 2,
   "id": "f4742190",
   "metadata": {},
   "outputs": [],
   "source": [
    "def even_or_odd(num):\n",
    "    \"\"\"This function finds even or odd\"\"\"\n",
    "    if num%2==0:\n",
    "        print(\"the number is even\")\n",
    "    else:\n",
    "        print(\"number is odd\")"
   ]
  },
  {
   "cell_type": "code",
   "execution_count": null,
   "id": "db4bbe6e",
   "metadata": {},
   "outputs": [
    {
     "name": "stdout",
     "output_type": "stream",
     "text": [
      "the number is even\n",
      "number is odd\n",
      "the number is even\n",
      "number is odd\n"
     ]
    }
   ],
   "source": [
    "##calling the function\n",
    "even_or_odd(30)\n",
    "even_or_odd(9)\n",
    "even_or_odd(10)\n",
    "even_or_odd(27)"
   ]
  },
  {
   "cell_type": "code",
   "execution_count": 7,
   "id": "32e2eb9b",
   "metadata": {},
   "outputs": [
    {
     "name": "stdout",
     "output_type": "stream",
     "text": [
      "7\n"
     ]
    }
   ],
   "source": [
    "def add(a,b):\n",
    "    return a+b\n",
    "result=add(3,4)\n",
    "print(result)"
   ]
  },
  {
   "cell_type": "code",
   "execution_count": 2,
   "id": "b0170767",
   "metadata": {},
   "outputs": [
    {
     "name": "stdout",
     "output_type": "stream",
     "text": [
      "hello chai Welcome to IT\n"
     ]
    }
   ],
   "source": [
    "def greet(name):\n",
    "    print(f\"hello {name} Welcome to IT\")\n",
    "\n",
    "greet(\"chai\")"
   ]
  },
  {
   "cell_type": "code",
   "execution_count": null,
   "id": "e16d54cb",
   "metadata": {},
   "outputs": [
    {
     "name": "stdout",
     "output_type": "stream",
     "text": [
      "1\n",
      "2\n",
      "3\n",
      "4\n",
      "5\n",
      "6\n",
      "7\n",
      "8\n",
      "chai\n"
     ]
    }
   ],
   "source": [
    "#positional arguments\n",
    "def print_numbers(*args):\n",
    "    for number in args:\n",
    "        print(number)\n",
    "print_numbers(1,2,3,4,5,6,7,8,\"chai\")        "
   ]
  },
  {
   "cell_type": "code",
   "execution_count": null,
   "id": "9b1ddb5b",
   "metadata": {},
   "outputs": [
    {
     "name": "stdout",
     "output_type": "stream",
     "text": [
      "name:chai\n",
      "age:21\n",
      "Native:Dakshina Kannada\n",
      "country:India\n"
     ]
    }
   ],
   "source": [
    "#key arguments\n",
    "def print_details(**kvargs):\n",
    "    for key,value in kvargs.items():\n",
    "        print(f\"{key}:{value}\")\n",
    "print_details(name=\"chai\",age=\"21\",Native=\"Dakshina Kannada\",country=\"India\")        "
   ]
  },
  {
   "cell_type": "code",
   "execution_count": 10,
   "id": "9509228b",
   "metadata": {},
   "outputs": [
    {
     "name": "stdout",
     "output_type": "stream",
     "text": [
      "positional argument:1\n",
      "positional argument:2\n",
      "positional argument:3\n",
      "positional argument:4\n",
      "\n",
      "below is key arguments\n",
      "name:chai\n",
      "age:21\n",
      "country:India\n"
     ]
    }
   ],
   "source": [
    "def print_details(*args,**kvargs):\n",
    "    for val in args:\n",
    "        print(f\"positional argument:{val}\")\n",
    "    \n",
    "    print(\"\\nbelow is key arguments\")\n",
    "    for key ,value in kvargs.items():\n",
    "        print(f\"{key}:{value}\")\n",
    "\n",
    "print_details(1,2,3,4,name=\"chai\",age=\"21\",country=\"India\")        "
   ]
  },
  {
   "cell_type": "code",
   "execution_count": 11,
   "id": "5d5bc55b",
   "metadata": {},
   "outputs": [
    {
     "data": {
      "text/plain": [
       "(6, 2)"
      ]
     },
     "execution_count": 11,
     "metadata": {},
     "output_type": "execute_result"
    }
   ],
   "source": [
    "#return multiple parameters\n",
    "\n",
    "def multiply(a,b):\n",
    "    return a*b,a \n",
    "\n",
    "multiply(2,3)"
   ]
  },
  {
   "cell_type": "code",
   "execution_count": null,
   "id": "05648dd0",
   "metadata": {},
   "outputs": [],
   "source": []
  }
 ],
 "metadata": {
  "kernelspec": {
   "display_name": "Python 3",
   "language": "python",
   "name": "python3"
  },
  "language_info": {
   "codemirror_mode": {
    "name": "ipython",
    "version": 3
   },
   "file_extension": ".py",
   "mimetype": "text/x-python",
   "name": "python",
   "nbconvert_exporter": "python",
   "pygments_lexer": "ipython3",
   "version": "3.12.0"
  }
 },
 "nbformat": 4,
 "nbformat_minor": 5
}
