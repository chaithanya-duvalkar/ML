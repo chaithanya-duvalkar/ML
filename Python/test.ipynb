{
 "cells": [
  {
   "cell_type": "code",
   "execution_count": 7,
   "metadata": {},
   "outputs": [],
   "source": [
    "from sklearn.linear_model import Perceptron\n",
    "\n",
    "def perceptron_logic_gate(gate='AND'):\n",
    "    if gate=='AND':\n",
    "        X=[[0,0],[0,1],[1,0],[1,1]]\n",
    "        y=[0,0,0,1]\n",
    "    elif gate=='OR':\n",
    "        X=[[0,0],[0,1],[1,0],[1,1]]\n",
    "        y=[0,1,1,1]\n",
    "        \n",
    "    model=Perceptron()\n",
    "    model.fit(X,y)\n",
    "\n",
    "    print(f\"{gate} Gate Prediction: \")\n",
    "    for x in X:\n",
    "        print(f\"{x} -> {model.predict([x])[0]}\")    \n",
    "\n",
    "    perceptron_logic_gate('AND')\n",
    "    perceptron_logic_gate('OR')        "
   ]
  },
  {
   "cell_type": "code",
   "execution_count": null,
   "metadata": {},
   "outputs": [],
   "source": []
  },
  {
   "cell_type": "markdown",
   "metadata": {},
   "source": []
  }
 ],
 "metadata": {
  "kernelspec": {
   "display_name": "base",
   "language": "python",
   "name": "python3"
  },
  "language_info": {
   "codemirror_mode": {
    "name": "ipython",
    "version": 3
   },
   "file_extension": ".py",
   "mimetype": "text/x-python",
   "name": "python",
   "nbconvert_exporter": "python",
   "pygments_lexer": "ipython3",
   "version": "3.12.7"
  }
 },
 "nbformat": 4,
 "nbformat_minor": 2
}
